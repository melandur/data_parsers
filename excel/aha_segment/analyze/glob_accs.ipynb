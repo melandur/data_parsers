{
 "cells": [
  {
   "cell_type": "code",
   "execution_count": null,
   "outputs": [],
   "source": [
    "import os\n",
    "\n",
    "import pandas as pd\n",
    "import matplotlib.pyplot as plt\n",
    "import seaborn as sns"
   ],
   "metadata": {
    "collapsed": false
   }
  },
  {
   "cell_type": "code",
   "execution_count": null,
   "outputs": [],
   "source": [
    "\"\"\"Load data as data frame\"\"\"\n",
    "src_train = '/home/melandur/Data/Myocarditis/csv/train/7_merged/'\n",
    "src_test = '/home/melandur/Data/Myocarditis/csv/test/7_merged/'\n",
    "\n",
    "\n",
    "def load_data(path):\n",
    "    files = os.listdir(path)\n",
    "    df_store = {}\n",
    "    for file in files:\n",
    "        if 'aha' in file and 'glob' in file and 'sample' not in file:\n",
    "            file_path = os.path.join(path, file)\n",
    "            df = pd.read_excel(file_path)\n",
    "            name = f\"{'_'.join(file.split('_')[1:3])}\".split('.xlsx')[0]\n",
    "            df_store[name] = df.iloc[:, 1:]  # drop first column and row\n",
    "    return df_store\n",
    "\n",
    "df_train = load_data(src_train)\n",
    "df_test = load_data(src_test)"
   ],
   "metadata": {
    "collapsed": false
   }
  },
  {
   "cell_type": "code",
   "execution_count": null,
   "outputs": [],
   "source": [
    "def euclider(store, name, min=1, max=100):\n",
    "    df_longit = store[f'longit_{name}'].iloc[:, min:max]\n",
    "    df_circumf = store[f'circumf_{name}'].iloc[:, min:max]\n",
    "    df_radial = store[f'radial_{name}'].iloc[:, min:max]\n",
    "    col_names = df_longit.columns.values[0]  # get case name\n",
    "    # euclid distance\n",
    "    df_longit = abs(df_longit) ** 2\n",
    "    df_circumf = abs(df_circumf) ** 2\n",
    "    df_radial = abs(df_radial) ** 2\n",
    "    summed = df_longit + df_circumf.values + df_radial.values\n",
    "    result = summed ** (1 / 2)\n",
    "    return result, col_names"
   ],
   "metadata": {
    "collapsed": false
   }
  },
  {
   "cell_type": "code",
   "execution_count": null,
   "outputs": [],
   "source": [
    "train_s, col_name = euclider(df_train, 'strain')\n",
    "test_s, _ = euclider(df_test, 'strain')\n",
    "\n",
    "train_v, _ = euclider(df_train, 'velocity')\n",
    "test_v, _ = euclider(df_test, 'velocity')\n",
    "\n",
    "train_a, _ = euclider(df_train, 'acceleration')\n",
    "test_a, _ = euclider(df_test, 'acceleration')\n",
    "\n",
    "train_sa, _ = euclider(df_train, 'strain-acc')\n",
    "test_sa, _ = euclider(df_test, 'strain-acc')\n",
    "\n",
    "def melter(df):\n",
    "    x = df.melt()\n",
    "    x = x.drop(x.columns[x.columns.str.contains('variable', case=False)], axis=1)\n",
    "    return x\n",
    "\n",
    "train_s = melter(train_s)\n",
    "test_s = melter(test_s)\n",
    "\n",
    "train_v = melter(train_v)\n",
    "test_v = melter(test_v)\n",
    "\n",
    "train_a = melter(train_a)\n",
    "test_a = melter(test_a)\n",
    "\n",
    "train_sa = melter(train_sa)\n",
    "test_sa = melter(test_sa)\n",
    "\n",
    "train = pd.concat((train_v, train_a, train_s, train_sa), axis=1)\n",
    "train.columns = ['velocity [mm/s]', 'acceleration [mm/s²]', 'strain_rate [1/s]', 'strain_rate_acc. [1/s²]']\n",
    "test = pd.concat((test_v, test_s, test_a, test_sa), axis=1)\n",
    "test.columns = ['velocity [mm/s]', 'acceleration [mm/s²]', 'strain_rate [1/s]', 'strain_rate_acc. [1/s²]']\n",
    "\n",
    "# g = sns.PairGrid(train, diag_sharey=False)\n",
    "# g.fig.suptitle(f'Myocarditis, 35 cases, AHA global', y=0.98)\n",
    "# g.map_upper(sns.scatterplot)\n",
    "# g.map_lower(sns.kdeplot)\n",
    "# g.map_diag(sns.kdeplot)\n",
    "#\n",
    "# file_path = f'/home/melandur/Pictures/images/overview/myocarditis_100_cases_AHA_global.png'\n",
    "# os.makedirs(os.path.dirname(file_path), exist_ok=True)\n",
    "# plt.tight_layout()\n",
    "# plt.savefig(file_path, dpi=300)\n",
    "# plt.close()\n",
    "\n",
    "matrix = train.corr().round(2)\n",
    "sns.heatmap(matrix, annot=True, xticklabels=True, yticklabels=True)\n",
    "plt.xticks(rotation=45)\n",
    "plt.title(f'Corr. Matrix, 100 cases  Myocarditis, AHA global')\n",
    "plt.show()\n",
    "\n",
    "# file_path = f'/home/melandur/Pictures/images/overview/corr_matrix_myocarditis_100_cases_AHA_global.png'\n",
    "# os.makedirs(os.path.dirname(file_path), exist_ok=True)\n",
    "# plt.tight_layout()\n",
    "# plt.savefig(file_path, dpi=300)\n",
    "# plt.close()"
   ],
   "metadata": {
    "collapsed": false
   }
  },
  {
   "cell_type": "code",
   "execution_count": null,
   "outputs": [],
   "source": [
    "def rename_columns(df):\n",
    "    column_names = df.columns\n",
    "    new_names = []\n",
    "    for name in column_names:\n",
    "        new_names.append(f'{name}')\n",
    "    df.columns = new_names\n",
    "    return df"
   ],
   "metadata": {
    "collapsed": false
   }
  },
  {
   "cell_type": "code",
   "execution_count": null,
   "outputs": [],
   "source": [
    "for case_number in range(1, 100):\n",
    "    # there are only 35 test cases, comment test_* when running train\n",
    "    train_v, col_name = euclider(df_train, 'velocity', min=case_number, max=case_number + 1)\n",
    "    test_v, _ = euclider(df_test, 'velocity', min=case_number, max=case_number + 1)\n",
    "\n",
    "    train_s, _ = euclider(df_train, 'strain', min=case_number, max=case_number + 1)\n",
    "    test_s, _ = euclider(df_test, 'strain', min=case_number, max=case_number + 1)\n",
    "\n",
    "    train_a, _ = euclider(df_train, 'acceleration', min=case_number, max=case_number + 1)\n",
    "    test_a, _ = euclider(df_test, 'acceleration', min=case_number, max=case_number + 1)\n",
    "\n",
    "    train_sa, _ = euclider(df_train, 'strain-acc', min=case_number, max=case_number + 1)\n",
    "    test_sa, _ = euclider(df_test, 'strain-acc', min=case_number, max=case_number + 1)\n",
    "\n",
    "    train = pd.concat((train_v, train_a, train_s, train_sa), axis=1)\n",
    "    train.columns = ['velocity [mm/s]', 'acceleration [mm/s²]', 'strain_rate [1/s]', 'strain_rate_acc. [1/s²]']\n",
    "    test = pd.concat((test_v, test_s, test_a, test_sa), axis=1)\n",
    "    test.columns = ['velocity [mm/s]', 'acceleration [mm/s²]', 'strain_rate [1/s]', 'strain_rate_acc. [1/s²]']\n",
    "\n",
    "    g = sns.PairGrid(train, diag_sharey=False)\n",
    "    g.fig.suptitle(f'Myocarditis, {col_name}, AHA global', y=0.98)\n",
    "    g.map_upper(sns.scatterplot)\n",
    "    g.map_lower(sns.kdeplot)\n",
    "    g.map_diag(sns.kdeplot)\n",
    "    plt.show()\n",
    "\n",
    "    # file_path = f'/home/melandur/Pictures/images/test/{col_name}_AHA_global.png'\n",
    "    # os.makedirs(os.path.dirname(file_path), exist_ok=True)\n",
    "    # plt.tight_layout()\n",
    "    # plt.savefig(file_path, dpi=300)\n",
    "    plt.close()"
   ],
   "metadata": {
    "collapsed": false
   }
  },
  {
   "cell_type": "code",
   "execution_count": null,
   "outputs": [],
   "source": [
    "for case_number in range(1, 100):\n",
    "    # there are only 35 test cases, comment test_* when running train\n",
    "    train_v, col_name = euclider(df_train, 'velocity', min=case_number, max=case_number + 1)\n",
    "    test_v, _ = euclider(df_test, 'velocity', min=case_number, max=case_number + 1)\n",
    "\n",
    "    train_s, _ = euclider(df_train, 'strain', min=case_number, max=case_number + 1)\n",
    "    test_s, _ = euclider(df_test, 'strain', min=case_number, max=case_number + 1)\n",
    "\n",
    "    train_a, _ = euclider(df_train, 'acceleration', min=case_number, max=case_number + 1)\n",
    "    test_a, _ = euclider(df_test, 'acceleration', min=case_number, max=case_number + 1)\n",
    "\n",
    "    train_sa, _ = euclider(df_train, 'strain-acc', min=case_number, max=case_number + 1)\n",
    "    test_sa, _ = euclider(df_test, 'strain-acc', min=case_number, max=case_number + 1)\n",
    "\n",
    "    train = pd.concat((train_v, train_a, train_s, train_sa), axis=1)\n",
    "    train.columns = ['velocity [mm/s]', 'acceleration [mm/s²]', 'strain_rate [1/s]', 'strain_rate_acc. [1/s²]']\n",
    "    test = pd.concat((test_v, test_s, test_a, test_sa), axis=1)\n",
    "    test.columns = ['velocity [mm/s]', 'acceleration [mm/s²]', 'strain_rate [1/s]', 'strain_rate_acc. [1/s²]']\n",
    "\n",
    "    matrix = train.corr().round(2)\n",
    "    sns.heatmap(matrix, annot=True, xticklabels=True, yticklabels=True)\n",
    "    plt.xticks(rotation=45)\n",
    "    plt.title(f'Corr. Matrix, Myocarditis, {col_name}, AHA global')\n",
    "    plt.show()\n",
    "\n",
    "    # file_path = f'/home/melandur/Pictures/images/train_corr/corr_matrix_{col_name}_AHA_global.png'\n",
    "    # os.makedirs(os.path.dirname(file_path), exist_ok=True)\n",
    "    # plt.tight_layout()\n",
    "    # plt.savefig(file_path, dpi=300)\n",
    "    # plt.close()"
   ],
   "metadata": {
    "collapsed": false
   }
  },
  {
   "cell_type": "code",
   "execution_count": null,
   "outputs": [],
   "source": [],
   "metadata": {
    "collapsed": false
   }
  }
 ],
 "metadata": {
  "kernelspec": {
   "display_name": "Python 3",
   "language": "python",
   "name": "python3"
  },
  "language_info": {
   "codemirror_mode": {
    "name": "ipython",
    "version": 2
   },
   "file_extension": ".py",
   "mimetype": "text/x-python",
   "name": "python",
   "nbconvert_exporter": "python",
   "pygments_lexer": "ipython2",
   "version": "2.7.6"
  }
 },
 "nbformat": 4,
 "nbformat_minor": 0
}
